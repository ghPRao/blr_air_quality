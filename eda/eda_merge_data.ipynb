{
 "cells": [
  {
   "cell_type": "code",
   "execution_count": 15,
   "metadata": {},
   "outputs": [],
   "source": [
    "import requests\n",
    "import sys\n",
    "import pandas as pd\n",
    "from bs4 import BeautifulSoup\n",
    "import os\n",
    "import csv\n",
    "sys.path.append(\"../src\")\n",
    "from data_average import avg_daily_AQI"
   ]
  },
  {
   "cell_type": "code",
   "execution_count": 19,
   "metadata": {},
   "outputs": [],
   "source": [
    "def met_data(month, year):\n",
    "    file_html = open('../data/Html_Data/{}/{}.html'.format(year,month), 'rb')\n",
    "    plain_text = file_html.read()\n",
    "\n",
    "    tempD = []\n",
    "    finalD = []\n",
    "\n",
    "    soup = BeautifulSoup(plain_text, \"lxml\")\n",
    "    for table in soup.findAll('table', {'class': 'medias mensuales numspan'}):\n",
    "        for tbody in table:\n",
    "            for tr in tbody:\n",
    "                a = tr.get_text()\n",
    "                tempD.append(a)\n",
    "\n",
    "    rows = len(tempD) / 15\n",
    "\n",
    "    for times in range(round(rows)):\n",
    "        newtempD = []\n",
    "        for i in range(15):\n",
    "            newtempD.append(tempD[0])\n",
    "            tempD.pop(0)\n",
    "        finalD.append(newtempD)\n",
    "\n",
    "    length = len(finalD)\n",
    "\n",
    "    finalD.pop(length - 1)\n",
    "    finalD.pop(0)\n",
    "\n",
    "    for a in range(len(finalD)):\n",
    "        finalD[a].pop(6)\n",
    "        finalD[a].pop(13)\n",
    "        finalD[a].pop(12)\n",
    "        finalD[a].pop(11)\n",
    "        finalD[a].pop(10)\n",
    "        finalD[a].pop(9)\n",
    "        finalD[a].pop(0)\n",
    "\n",
    "    return finalD"
   ]
  },
  {
   "cell_type": "code",
   "execution_count": 20,
   "metadata": {},
   "outputs": [],
   "source": [
    "def data_combine(year, cs):\n",
    "    for a in pd.read_csv('../data/Real-Data/real_' + str(year) + '.csv', chunksize=cs):\n",
    "        df = pd.DataFrame(data=a)\n",
    "        mylist = df.values.tolist()\n",
    "    return mylist"
   ]
  },
  {
   "cell_type": "code",
   "execution_count": 25,
   "metadata": {},
   "outputs": [
    {
     "ename": "NameError",
     "evalue": "name 'pm' is not defined",
     "output_type": "error",
     "traceback": [
      "\u001b[0;31m---------------------------------------------------------------------------\u001b[0m",
      "\u001b[0;31mNameError\u001b[0m                                 Traceback (most recent call last)",
      "\u001b[0;32m<ipython-input-25-aea536c91217>\u001b[0m in \u001b[0;36m<module>\u001b[0;34m\u001b[0m\n\u001b[1;32m     20\u001b[0m     \u001b[0;32mfor\u001b[0m \u001b[0mi\u001b[0m \u001b[0;32min\u001b[0m \u001b[0mrange\u001b[0m\u001b[0;34m(\u001b[0m\u001b[0mlen\u001b[0m\u001b[0;34m(\u001b[0m\u001b[0mfinal_data\u001b[0m\u001b[0;34m)\u001b[0m\u001b[0;34m-\u001b[0m\u001b[0;36m1\u001b[0m\u001b[0;34m)\u001b[0m\u001b[0;34m:\u001b[0m\u001b[0;34m\u001b[0m\u001b[0;34m\u001b[0m\u001b[0m\n\u001b[1;32m     21\u001b[0m         \u001b[0;31m# final[i].insert(0, i + 1)\u001b[0m\u001b[0;34m\u001b[0m\u001b[0;34m\u001b[0m\u001b[0;34m\u001b[0m\u001b[0m\n\u001b[0;32m---> 22\u001b[0;31m         \u001b[0mfinal_data\u001b[0m\u001b[0;34m[\u001b[0m\u001b[0mi\u001b[0m\u001b[0;34m]\u001b[0m\u001b[0;34m.\u001b[0m\u001b[0minsert\u001b[0m\u001b[0;34m(\u001b[0m\u001b[0;36m8\u001b[0m\u001b[0;34m,\u001b[0m \u001b[0mpm\u001b[0m\u001b[0;34m[\u001b[0m\u001b[0mi\u001b[0m\u001b[0;34m]\u001b[0m\u001b[0;34m)\u001b[0m\u001b[0;34m\u001b[0m\u001b[0;34m\u001b[0m\u001b[0m\n\u001b[0m\u001b[1;32m     23\u001b[0m \u001b[0;34m\u001b[0m\u001b[0m\n\u001b[1;32m     24\u001b[0m     \u001b[0;32mwith\u001b[0m \u001b[0mopen\u001b[0m\u001b[0;34m(\u001b[0m\u001b[0;34m'../data/Real-Data/real_'\u001b[0m \u001b[0;34m+\u001b[0m \u001b[0mstr\u001b[0m\u001b[0;34m(\u001b[0m\u001b[0myear\u001b[0m\u001b[0;34m)\u001b[0m \u001b[0;34m+\u001b[0m \u001b[0;34m'.csv'\u001b[0m\u001b[0;34m,\u001b[0m \u001b[0;34m'a'\u001b[0m\u001b[0;34m)\u001b[0m \u001b[0;32mas\u001b[0m \u001b[0mcsvfile\u001b[0m\u001b[0;34m:\u001b[0m\u001b[0;34m\u001b[0m\u001b[0;34m\u001b[0m\u001b[0m\n",
      "\u001b[0;31mNameError\u001b[0m: name 'pm' is not defined"
     ]
    }
   ],
   "source": [
    "if not os.path.exists(\"../data/Real-Data\"):\n",
    "    os.makedirs(\"../data/Real-Data\")\n",
    "        \n",
    "for year in range(2013, 2019):\n",
    "    final_data = []\n",
    "    with open('../data/Real-Data/real_' + str(year) + '.csv', 'w') as csvfile:\n",
    "        wr = csv.writer(csvfile, dialect='excel')\n",
    "        wr.writerow(\n",
    "            ['T', 'TM', 'Tm', 'SLP', 'H', 'VV', 'V', 'VM', 'PM 2.5'])\n",
    "        \n",
    "    for month in range(1, 13):\n",
    "        temp = met_data(month, year)\n",
    "        final_data = final_data + temp\n",
    "\n",
    "#    pm = getattr(sys.modules[__name__], 'avg_data_{}'.format(year))()\n",
    "\n",
    "#    if len(pm) == 364:\n",
    "#        pm.insert(364, '-')\n",
    "\n",
    "    for i in range(len(final_data)-1):\n",
    "        # final[i].insert(0, i + 1)\n",
    "        final_data[i].insert(8, pm[i])\n",
    "\n",
    "    with open('../data/Real-Data/real_' + str(year) + '.csv', 'a') as csvfile:\n",
    "        wr = csv.writer(csvfile, dialect='excel')\n",
    "        for row in final_data:\n",
    "            flag = 0\n",
    "            for elem in row:\n",
    "                if elem == \"\" or elem == \"-\":\n",
    "                    flag = 1\n",
    "            if flag != 1:\n",
    "                wr.writerow(row)"
   ]
  },
  {
   "cell_type": "code",
   "execution_count": 21,
   "metadata": {},
   "outputs": [
    {
     "ename": "AttributeError",
     "evalue": "module '__main__' has no attribute 'avg_data_2013'",
     "output_type": "error",
     "traceback": [
      "\u001b[0;31m---------------------------------------------------------------------------\u001b[0m",
      "\u001b[0;31mAttributeError\u001b[0m                            Traceback (most recent call last)",
      "\u001b[0;32m<ipython-input-21-15d6a1f75064>\u001b[0m in \u001b[0;36m<module>\u001b[0;34m\u001b[0m\n\u001b[1;32m     12\u001b[0m         \u001b[0mfinal_data\u001b[0m \u001b[0;34m=\u001b[0m \u001b[0mfinal_data\u001b[0m \u001b[0;34m+\u001b[0m \u001b[0mtemp\u001b[0m\u001b[0;34m\u001b[0m\u001b[0;34m\u001b[0m\u001b[0m\n\u001b[1;32m     13\u001b[0m \u001b[0;34m\u001b[0m\u001b[0m\n\u001b[0;32m---> 14\u001b[0;31m     \u001b[0mpm\u001b[0m \u001b[0;34m=\u001b[0m \u001b[0mgetattr\u001b[0m\u001b[0;34m(\u001b[0m\u001b[0msys\u001b[0m\u001b[0;34m.\u001b[0m\u001b[0mmodules\u001b[0m\u001b[0;34m[\u001b[0m\u001b[0m__name__\u001b[0m\u001b[0;34m]\u001b[0m\u001b[0;34m,\u001b[0m \u001b[0;34m'avg_data_{}'\u001b[0m\u001b[0;34m.\u001b[0m\u001b[0mformat\u001b[0m\u001b[0;34m(\u001b[0m\u001b[0myear\u001b[0m\u001b[0;34m)\u001b[0m\u001b[0;34m)\u001b[0m\u001b[0;34m(\u001b[0m\u001b[0;34m)\u001b[0m\u001b[0;34m\u001b[0m\u001b[0;34m\u001b[0m\u001b[0m\n\u001b[0m\u001b[1;32m     15\u001b[0m \u001b[0;34m\u001b[0m\u001b[0m\n\u001b[1;32m     16\u001b[0m     \u001b[0;32mif\u001b[0m \u001b[0mlen\u001b[0m\u001b[0;34m(\u001b[0m\u001b[0mpm\u001b[0m\u001b[0;34m)\u001b[0m \u001b[0;34m==\u001b[0m \u001b[0;36m364\u001b[0m\u001b[0;34m:\u001b[0m\u001b[0;34m\u001b[0m\u001b[0;34m\u001b[0m\u001b[0m\n",
      "\u001b[0;31mAttributeError\u001b[0m: module '__main__' has no attribute 'avg_data_2013'"
     ]
    }
   ],
   "source": [
    "# if not os.path.exists(\"../data/Real-Data\"):\n",
    "#     os.makedirs(\"../data/Real-Data\")\n",
    "    \n",
    "# for year in range(2013, 2018):\n",
    "#     final_data = []\n",
    "#     with open('../data/Real-Data/real_' + str(year) + '.csv', 'w') as csvfile:\n",
    "#         wr = csv.writer(csvfile, dialect='excel')\n",
    "#         wr.writerow(\n",
    "#             ['T', 'TM', 'Tm', 'SLP', 'H', 'VV', 'V', 'VM', 'PM 2.5'])\n",
    "#     for month in range(1, 13):\n",
    "#         temp = met_data(month, year)\n",
    "#         final_data = final_data + temp\n",
    "\n",
    "#     pm = getattr(sys.modules[__name__], 'avg_data_{}'.format(year))()\n",
    "\n",
    "#     if len(pm) == 364:\n",
    "#         pm.insert(364, '-')\n",
    "\n",
    "#     for i in range(len(final_data)-1):\n",
    "#         # final[i].insert(0, i + 1)\n",
    "#         final_data[i].insert(8, pm[i])\n",
    "\n",
    "#     with open('../data/Real-Data/real_' + str(year) + '.csv', 'a') as csvfile:\n",
    "#         wr = csv.writer(csvfile, dialect='excel')\n",
    "#         for row in final_data:\n",
    "#             flag = 0\n",
    "#             for elem in row:\n",
    "#                 if elem == \"\" or elem == \"-\":\n",
    "#                     flag = 1\n",
    "#             if flag != 1:\n",
    "#                 wr.writerow(row)\n",
    "\n",
    "# data_2013 = data_combine(2013, 600)\n",
    "# data_2014 = data_combine(2014, 600)\n",
    "# data_2015 = data_combine(2015, 600)\n",
    "# data_2016 = data_combine(2016, 600)\n",
    "\n",
    "# total=data_2013+data_2014+data_2015+data_2016\n",
    "\n",
    "# with open('../data/Real-Data/Real_Combine.csv', 'w') as csvfile:\n",
    "#     wr = csv.writer(csvfile, dialect='excel')\n",
    "#     wr.writerow(\n",
    "#         ['T', 'TM', 'Tm', 'SLP', 'H', 'VV', 'V', 'VM', 'PM 2.5'])\n",
    "#     wr.writerows(total)"
   ]
  },
  {
   "cell_type": "code",
   "execution_count": null,
   "metadata": {},
   "outputs": [],
   "source": []
  }
 ],
 "metadata": {
  "kernelspec": {
   "display_name": "Python 3",
   "language": "python",
   "name": "python3"
  },
  "language_info": {
   "codemirror_mode": {
    "name": "ipython",
    "version": 3
   },
   "file_extension": ".py",
   "mimetype": "text/x-python",
   "name": "python",
   "nbconvert_exporter": "python",
   "pygments_lexer": "ipython3",
   "version": "3.8.5"
  }
 },
 "nbformat": 4,
 "nbformat_minor": 4
}
