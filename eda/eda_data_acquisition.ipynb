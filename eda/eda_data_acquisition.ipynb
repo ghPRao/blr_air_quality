{
 "cells": [
  {
   "cell_type": "code",
   "execution_count": 1,
   "metadata": {},
   "outputs": [],
   "source": [
    "import os\n",
    "import time\n",
    "import requests\n",
    "import sys"
   ]
  },
  {
   "cell_type": "code",
   "execution_count": 2,
   "metadata": {},
   "outputs": [],
   "source": [
    "\n",
    "'''\n",
    "    Collect San Francisco weather data.\n",
    "    Example: https://en.tutiempo.net/climate/mm-yyyy/ws-724940.html\n",
    "'''\n",
    "def retrieve_html():\n",
    "    for yyyy in range(2010,2021):\n",
    "        for mm in range(1,13):\n",
    "            # if mm < 10, there are two digits with leading 0 otherwise no leading zero.\n",
    "            if(mm<10):\n",
    "                url = 'https://en.tutiempo.net/climate/0{}-{}/ws-725300.html'.format(mm, yyyy)\n",
    "            else:\n",
    "                url = 'https://en.tutiempo.net/climate/{}-{}/ws-725300.html'.format(mm, yyyy)        \n",
    "            \n",
    "            texts=requests.get(url)\n",
    "            text_utf=texts.text.encode('utf=8')\n",
    "            \n",
    "            if not os.path.exists(\"../data/html_data/{}\".format(yyyy)):\n",
    "                os.makedirs(\"../data/html_data/{}\".format(yyyy))\n",
    "            with open(\"../data/html_data/{}/{}.html\".format(yyyy,mm),\"wb\") as output:\n",
    "                output.write(text_utf)\n",
    "            \n",
    "        sys.stdout.flush()    "
   ]
  },
  {
   "cell_type": "code",
   "execution_count": 3,
   "metadata": {},
   "outputs": [],
   "source": [
    "retrieve_html()"
   ]
  },
  {
   "cell_type": "code",
   "execution_count": null,
   "metadata": {},
   "outputs": [],
   "source": []
  }
 ],
 "metadata": {
  "kernelspec": {
   "display_name": "Python 3",
   "language": "python",
   "name": "python3"
  },
  "language_info": {
   "codemirror_mode": {
    "name": "ipython",
    "version": 3
   },
   "file_extension": ".py",
   "mimetype": "text/x-python",
   "name": "python",
   "nbconvert_exporter": "python",
   "pygments_lexer": "ipython3",
   "version": "3.8.5"
  }
 },
 "nbformat": 4,
 "nbformat_minor": 4
}
